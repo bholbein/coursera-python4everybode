{
 "cells": [
  {
   "cell_type": "code",
   "execution_count": 40,
   "metadata": {
    "collapsed": true
   },
   "outputs": [],
   "source": [
    "# The basic outline of this problem is to read the file, \n",
    "# look for integers using the re.findall(), \n",
    "# looking for a regular expression of '[0-9]+' \n",
    "# and then converting the extracted strings to integers and summing up the integers."
   ]
  },
  {
   "cell_type": "code",
   "execution_count": 91,
   "metadata": {},
   "outputs": [
    {
     "name": "stdout",
     "output_type": "stream",
     "text": [
      "345625.0\n"
     ]
    }
   ],
   "source": [
    "import re #needed for regex\n",
    "\n",
    "fhandle = open(\"regex_sum_99377.txt\")\n",
    "\n",
    "numbers = list()\n",
    "for line in fhandle:\n",
    "    line = line.rstrip()\n",
    "    regex = re.findall('[0-9]+', line)\n",
    "    if regex:\n",
    "        numbers.append(regex)\n",
    "\n",
    "floatlist = list()\n",
    "#need two loops to isolate values from nested lists returned by findall\n",
    "for lists in numbers:\n",
    "    for items in lists:\n",
    "        value = float(items)\n",
    "        floatlist.append(value)\n",
    "         \n",
    "print(sum(floatlist))"
   ]
  },
  {
   "cell_type": "code",
   "execution_count": null,
   "metadata": {
    "collapsed": true
   },
   "outputs": [],
   "source": []
  }
 ],
 "metadata": {
  "kernelspec": {
   "display_name": "Python 3",
   "language": "python",
   "name": "python3"
  },
  "language_info": {
   "codemirror_mode": {
    "name": "ipython",
    "version": 3
   },
   "file_extension": ".py",
   "mimetype": "text/x-python",
   "name": "python",
   "nbconvert_exporter": "python",
   "pygments_lexer": "ipython3",
   "version": "3.6.3"
  }
 },
 "nbformat": 4,
 "nbformat_minor": 2
}
