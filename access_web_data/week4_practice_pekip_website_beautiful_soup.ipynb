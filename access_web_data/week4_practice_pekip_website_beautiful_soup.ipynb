{
 "cells": [
  {
   "cell_type": "code",
   "execution_count": 2,
   "metadata": {},
   "outputs": [
    {
     "name": "stdout",
     "output_type": "stream",
     "text": [
      "<!DOCTYPE html>\n",
      "\n",
      "<html lang=\"de\">\n",
      "<head>\n",
      "<meta content=\"text/html; charset=utf-8\" http-equiv=\"content-type\"/>\n",
      "<meta content=\"width=device-width, initial-scale=1.0\" name=\"viewport\"/>\n",
      "<title>kidsgo extt 1.0</title>\n",
      "<link href=\"//netdna.bootstrapcdn.com/twitter-bootstrap/2.3.1/css/bootstrap-combined.min.css\" rel=\"stylesheet\" type=\"text/css\"/>\n",
      "<style type=\"text/css\">\r\n",
      "    body {font-family:Arial, Helvetica, sans-serif;padding:0;}\r\n",
      "\t.tabbable {padding-right:10px;background: #fcfcfc; border: 1px solid #ddd;}\r\n",
      "\t.nav {margin-bottom:0;}\r\n",
      "\ta {color: #999;font-weight:bold;}\r\n",
      "\ta:hover {color: #555;}\r\n",
      "    .tabs-left > .nav-tabs {padding-top:2px;background: #ddd;}\r\n",
      "\t.tabs-left > .nav-tabs > li > a {border-width:3px;border-radius: 0;padding-bottom: 5px;padding-top: 5px;}\r\n",
      "\t.nav-tabs > .active > a, .nav-tabs > .active > a:hover, .nav-tabs > .active > a:focus {border-width: 3px;background: #fcfcfc;color:#555;}\r\n",
      "\t.tabs-left > .nav-tabs > li > a:hover, .tabs-left > .nav-tabs > li > a:focus {border-color:#eee;}\r\n",
      "\t.tab-content {background: #fff;margin-top:10px;padding:10px; border: 1px solid #eee;}\r\n",
      "\ttd {font-size:12px;font-weight:bold;}\r\n",
      "\tp {font-size:12px;line-height:18px;}\r\n",
      "\r\n",
      "\t@media (max-width: 650px) {\r\n",
      "    .tabbable {background: #FCFCFC; border: 0;padding-right: 0;}\r\n",
      "\t.tabs-left > .nav-tabs {border-left: 2px solid #DDDDDD;border-right: 2px solid #DDDDDD;float: none;margin-right: 0px;}\r\n",
      "\t.tabs-left > .nav-tabs > li, .tabs-right > .nav-tabs > li {float: left;margin-right:3px;}\r\n",
      "\t.tabs-left > .nav-tabs > li > a {border-width:0px;border-radius: 5px;padding-bottom: 5px;padding-top: 5px;}\r\n",
      "\t.nav-tabs > .active > a, .nav-tabs > .active > a:hover, .nav-tabs > .active > a:focus {border-width: 0;background: #fcfcfc;color:#555;}\r\n",
      "\t}\r\n",
      "\t</style>\n",
      "<!--[if IE]>\r\n",
      "\t\t<script src=\"http://html5shiv.googlecode.com/svn/trunk/html5.js\"></script>\r\n",
      "\t<![endif]-->\n",
      "</head>\n",
      "<body>\n",
      "<div class=\"container-fluid\">\n",
      "<div class=\"row-fluid\">\n",
      "<div class=\"span12\">\n",
      "<div class=\"tabbable tabs-left\">\n",
      "<ul class=\"nav nav-tabs\" data-bind=\"foreach: topics\">\n",
      "<li data-bind=\"css:{active: isActive}\"><a data-bind=\"text: title, click: $parent.getEvents\" href=\"#\"></a></li>\n",
      "</ul>\n",
      "<div class=\"fade in\" data-bind=\"visible: events().length === 0\" style=\"display:none;\"><h4 style=\"text-align:center;\">Keine Veranstaltungen</h4></div>\n",
      "<div class=\"tab-content\" data-bind=\"foreach: events\">\n",
      "<h4 data-bind=\"text: header\"></h4>\n",
      "<p class=\"ev-text\" data-bind=\"html: text\"></p>\n",
      "<p class=\"hide ev-text-all\" data-bind=\"html: textLong\"></p>\n",
      "<table class=\"table table-bordered table-condensed table-striped\">\n",
      "<tr>\n",
      "<td>Beginn</td>\n",
      "<td>Uhrzeit</td>\n",
      "<td>Leitung</td>\n",
      "<td>Beitrag</td>\n",
      "<td>Telefon</td>\n",
      "</tr>\n",
      "<tr>\n",
      "<td data-bind=\"html: eventStart\"></td>\n",
      "<td data-bind=\"text: time\"></td>\n",
      "<td data-bind=\"text: instructor\"></td>\n",
      "<td data-bind=\"text: fee\"></td>\n",
      "<td data-bind=\"text: phone\"></td>\n",
      "</tr>\n",
      "</table>\n",
      "<p data-bind=\"if: onlineEnroll\"><a class=\"btn reglink\" data-bind=\"attr:{href: regLink}\" href=\"#\" title=\"Anmeldung online\">Mehr Infos und Anmeldung <i class=\"icon-pencil\"></i></a></p>\n",
      "<hr/>\n",
      "</div>\n",
      "</div>\n",
      "</div>\n",
      "</div>\n",
      "<div class=\"text-error\" data-bind=\"text: error\"></div>\n",
      "</div>\n",
      "<script src=\"//ajax.googleapis.com/ajax/libs/jquery/1.10.2/jquery.min.js\" type=\"text/javascript\"></script>\n",
      "<script src=\"//ajax.aspnetcdn.com/ajax/knockout/knockout-2.2.1.js\" type=\"text/javascript\"></script>\n",
      "<script src=\"/mod/kv/extt/app.js\" type=\"text/javascript\"></script>\n",
      "</body>\n",
      "</html>\n"
     ]
    }
   ],
   "source": [
    "from urllib.request import urlopen\n",
    "from bs4 import BeautifulSoup\n",
    "import ssl\n",
    "\n",
    "# Ignore SSL certificate errors\n",
    "ctx = ssl.create_default_context()\n",
    "ctx.check_hostname = False\n",
    "ctx.verify_mode = ssl.CERT_NONE\n",
    "\n",
    "url = \"http://www.kidsgo.de/mod/kv/extt_if/72393fa3a29eda0f249c9b62a707497f/10301/\"\n",
    "html = urlopen(url, context=ctx).read()\n",
    "soup = BeautifulSoup(html, \"html.parser\")\n",
    "\n",
    "print(soup)"
   ]
  },
  {
   "cell_type": "code",
   "execution_count": null,
   "metadata": {
    "collapsed": true
   },
   "outputs": [],
   "source": []
  }
 ],
 "metadata": {
  "kernelspec": {
   "display_name": "Python 3",
   "language": "python",
   "name": "python3"
  },
  "language_info": {
   "codemirror_mode": {
    "name": "ipython",
    "version": 3
   },
   "file_extension": ".py",
   "mimetype": "text/x-python",
   "name": "python",
   "nbconvert_exporter": "python",
   "pygments_lexer": "ipython3",
   "version": "3.6.3"
  }
 },
 "nbformat": 4,
 "nbformat_minor": 2
}
