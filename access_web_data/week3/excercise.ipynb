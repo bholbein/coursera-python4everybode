{
 "cells": [
  {
   "cell_type": "code",
   "execution_count": 24,
   "metadata": {},
   "outputs": [
    {
     "name": "stdout",
     "output_type": "stream",
     "text": [
      "dataLayer = [{\"pageTitle\":\"Namensketten | Personalisierter Schmuck | Glitzerladen.de\",\"pageCategory\":\"Listing\",\"pageSubCategory\":\"\",\"pageCategoryID\":\"\",\"pageSubCategoryID\":\"\",\"pageCountryCode\":\"de_DE\",\"pageLanguageCode\":\"de\",\"pageVersion\":1,\"pageTestVariation\":\"1\",\"pageValue\":1,\"pageAttributes\":\"1\",\"productID\":\"\",\"productStyleID\":\"\",\"productEAN\":\"\",\"productName\":\"\",\"productPrice\":\"\",\"productCategory\":null,\"productCurrency\":\"\",\"productColor\":\"\",\"productRealColor\":\"\",\"visitorId\":\"\",\"visitorLoginState\":\"Logged Out\",\"visitorType\":\"NOT LOGGED IN\",\"visitorDemographicInfo\":\"\",\"visitorSocialConnections\":\"\",\"visitorLifetimeValue\":0,\"visitorExistingCustomer\":\"No\"}];\n"
     ]
    }
   ],
   "source": [
    "import urllib.request\n",
    "import re\n",
    "\n",
    "fhand = urllib.request.urlopen(\"https://www.glitzerladen.de/namensketten.html\")\n",
    "\n",
    "for line in fhand:\n",
    "    regex = re.findall('dataLayer =', line.decode())\n",
    "    if regex:\n",
    "        print(line.decode().strip())"
   ]
  },
  {
   "cell_type": "code",
   "execution_count": null,
   "metadata": {
    "collapsed": true
   },
   "outputs": [],
   "source": []
  }
 ],
 "metadata": {
  "kernelspec": {
   "display_name": "Python 3",
   "language": "python",
   "name": "python3"
  },
  "language_info": {
   "codemirror_mode": {
    "name": "ipython",
    "version": 3
   },
   "file_extension": ".py",
   "mimetype": "text/x-python",
   "name": "python",
   "nbconvert_exporter": "python",
   "pygments_lexer": "ipython3",
   "version": "3.6.3"
  }
 },
 "nbformat": 4,
 "nbformat_minor": 2
}
