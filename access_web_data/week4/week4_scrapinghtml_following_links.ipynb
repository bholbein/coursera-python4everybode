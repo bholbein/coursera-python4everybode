{
 "cells": [
  {
   "cell_type": "code",
   "execution_count": 73,
   "metadata": {},
   "outputs": [
    {
     "name": "stdout",
     "output_type": "stream",
     "text": [
      "Starturl:http://py4e-data.dr-chuck.net/known_by_Nidhi.html\n",
      "Position:18\n",
      "Number of Repititions:7\n",
      "Romi http://py4e-data.dr-chuck.net/known_by_Romi.html 1\n",
      "Artemis http://py4e-data.dr-chuck.net/known_by_Artemis.html 2\n",
      "Ruaidhri http://py4e-data.dr-chuck.net/known_by_Ruaidhri.html 3\n",
      "Amna http://py4e-data.dr-chuck.net/known_by_Amna.html 4\n",
      "Cherry http://py4e-data.dr-chuck.net/known_by_Cherry.html 5\n",
      "Ciarian http://py4e-data.dr-chuck.net/known_by_Ciarian.html 6\n",
      "Simone http://py4e-data.dr-chuck.net/known_by_Simone.html 7\n"
     ]
    }
   ],
   "source": [
    "import urllib.request, urllib.parse, urllib.error\n",
    "from bs4 import BeautifulSoup\n",
    "import ssl\n",
    "\n",
    "# Ignore SSL certificate errors\n",
    "ctx = ssl.create_default_context()\n",
    "ctx.check_hostname = False\n",
    "ctx.verify_mode = ssl.CERT_NONE\n",
    "\n",
    "#url = \"http://py4e-data.dr-chuck.net/known_by_Nidhi.html\"\n",
    "\n",
    "# define a function to parse html and find url and link text at position\n",
    "def findAnchors(position, url):\n",
    "    html = urllib.request.urlopen(url, context=ctx).read()\n",
    "    soup = BeautifulSoup(html, 'html.parser')\n",
    "    tags = soup('a')\n",
    "    anchor = list() # assign lists within function to reset every iteration\n",
    "    content = list()  # assign lists within function to reset every iteration\n",
    "    for tag in tags:\n",
    "        anchor.append(tag.get('href', None))\n",
    "        content.append(tag.contents[0])\n",
    "    return(anchor[position],content[position])\n",
    "\n",
    "#define position and number of repitition\n",
    "url = input(\"Starturl:\")\n",
    "position = int(input(\"Position:\"))-1\n",
    "repititions = int(input(\"Number of Repititions:\"))\n",
    "\n",
    "i = 1\n",
    "while i <= repititions:\n",
    "    url, name = findAnchors(position, url)\n",
    "    print(name, url, i)\n",
    "    i = i+1"
   ]
  }
 ],
 "metadata": {
  "kernelspec": {
   "display_name": "Python 3",
   "language": "python",
   "name": "python3"
  },
  "language_info": {
   "codemirror_mode": {
    "name": "ipython",
    "version": 3
   },
   "file_extension": ".py",
   "mimetype": "text/x-python",
   "name": "python",
   "nbconvert_exporter": "python",
   "pygments_lexer": "ipython3",
   "version": "3.6.3"
  }
 },
 "nbformat": 4,
 "nbformat_minor": 2
}
