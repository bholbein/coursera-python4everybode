{
 "cells": [
  {
   "cell_type": "code",
   "execution_count": 1,
   "metadata": {
    "collapsed": true
   },
   "outputs": [],
   "source": [
    "# In this assignment you will write a Python program somewhat similar to \n",
    "# http://www.py4e.com/code3/geoxml.py. The program will prompt for a URL, \n",
    "# read the XML data from that URL using urllib and then parse and extract \n",
    "# the comment counts from the XML data, compute the sum of the numbers in the file."
   ]
  },
  {
   "cell_type": "code",
   "execution_count": 21,
   "metadata": {},
   "outputs": [
    {
     "name": "stdout",
     "output_type": "stream",
     "text": [
      "Enter URL: http://py4e-data.dr-chuck.net/comments_99381.xml\n",
      "Retreived 4218 Characters\n",
      "Count: 50\n",
      "Sum: 2616\n"
     ]
    }
   ],
   "source": [
    "import urllib.request, urllib.parse, urllib.error #parse and read files from the web\n",
    "import xml.etree.ElementTree as ET # read xml\n",
    "\n",
    "# get url and retreive data\n",
    "url = input('Enter URL:')\n",
    "urlhandle = urllib.request.urlopen(url) \n",
    "data = urlhandle.read()\n",
    "print('Retreived', len(data), 'Characters')\n",
    "\n",
    "# read xml tree and calculate count and sum of \"count\" xml tags\n",
    "xmltree = ET.fromstring(data)   \n",
    "counts = xmltree.findall('.//count')\n",
    "total = int()\n",
    "for element in counts:\n",
    "    total = int(element.text) + total\n",
    "\n",
    "#print results\n",
    "print(\"Count:\", len(counts))\n",
    "print(\"Sum:\", total)"
   ]
  }
 ],
 "metadata": {
  "kernelspec": {
   "display_name": "Python 3",
   "language": "python",
   "name": "python3"
  },
  "language_info": {
   "codemirror_mode": {
    "name": "ipython",
    "version": 3
   },
   "file_extension": ".py",
   "mimetype": "text/x-python",
   "name": "python",
   "nbconvert_exporter": "python",
   "pygments_lexer": "ipython3",
   "version": "3.6.3"
  }
 },
 "nbformat": 4,
 "nbformat_minor": 2
}
