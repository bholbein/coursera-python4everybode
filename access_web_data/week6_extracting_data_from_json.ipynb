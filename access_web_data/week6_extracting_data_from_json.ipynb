{
 "cells": [
  {
   "cell_type": "code",
   "execution_count": 7,
   "metadata": {},
   "outputs": [
    {
     "name": "stdout",
     "output_type": "stream",
     "text": [
      "User count: 2\n",
      "Name Chuck\n",
      "Id 001\n",
      "Attribute 2\n",
      "Name Chuck\n",
      "Id 009\n",
      "Attribute 7\n"
     ]
    }
   ],
   "source": [
    "#example code\n",
    "import json\n",
    "\n",
    "data = '''\n",
    "[\n",
    "  { \"id\" : \"001\",\n",
    "    \"x\" : \"2\",\n",
    "    \"name\" : \"Chuck\"\n",
    "  } ,\n",
    "  { \"id\" : \"009\",\n",
    "    \"x\" : \"7\",\n",
    "    \"name\" : \"Chuck\"\n",
    "  }\n",
    "]'''\n",
    "\n",
    "info = json.loads(data)\n",
    "print('User count:', len(info))\n",
    "\n",
    "for item in info:\n",
    "    print('Name', item['name'])\n",
    "    print('Id', item['id'])\n",
    "    print('Attribute', item['x'])"
   ]
  },
  {
   "cell_type": "code",
   "execution_count": 45,
   "metadata": {},
   "outputs": [
    {
     "name": "stdout",
     "output_type": "stream",
     "text": [
      "Enter Location:  http://py4e-data.dr-chuck.net/comments_99382.json\n",
      "Retreiving data from  http://py4e-data.dr-chuck.net/comments_99382.json\n",
      "Retreiving 2723 characters\n",
      "Count 50\n",
      "Sum 2422\n"
     ]
    }
   ],
   "source": [
    "#actual assignment code\n",
    "import urllib.request, urllib.parse, urllib.error\n",
    "import json\n",
    "\n",
    "# get url and retreive data \n",
    "url = input(\"Enter Location: \")\n",
    "\n",
    "#intialize needed variables\n",
    "count = int()\n",
    "total = int()\n",
    "\n",
    "try:\n",
    "    urlhandle = urllib.request.urlopen(url)\n",
    "    data = urlhandle.read() #read whole data from url\n",
    "    json_object = json.loads(data) #create json dictuionary from data\n",
    "    print(\"Retreiving data from\", url)\n",
    "    print(\"Retreiving\", len(data), \"characters\")\n",
    "    for item in json_object['comments']: #only loop through comments element of dictionary\n",
    "        total = total + int(item['count']) \n",
    "        count = count +1\n",
    "    print(\"Count:\", count)\n",
    "    print(\"Sum:\", total)\n",
    "except:\n",
    "    print(\"Could not retrieve data from\", url)"
   ]
  },
  {
   "cell_type": "code",
   "execution_count": null,
   "metadata": {
    "collapsed": true
   },
   "outputs": [],
   "source": []
  },
  {
   "cell_type": "code",
   "execution_count": null,
   "metadata": {
    "collapsed": true
   },
   "outputs": [],
   "source": []
  }
 ],
 "metadata": {
  "kernelspec": {
   "display_name": "Python 3",
   "language": "python",
   "name": "python3"
  },
  "language_info": {
   "codemirror_mode": {
    "name": "ipython",
    "version": 3
   },
   "file_extension": ".py",
   "mimetype": "text/x-python",
   "name": "python",
   "nbconvert_exporter": "python",
   "pygments_lexer": "ipython3",
   "version": "3.6.3"
  }
 },
 "nbformat": 4,
 "nbformat_minor": 2
}
