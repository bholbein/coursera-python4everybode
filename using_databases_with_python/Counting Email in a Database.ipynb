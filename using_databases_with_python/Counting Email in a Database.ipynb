{
 "cells": [
  {
   "cell_type": "code",
   "execution_count": 25,
   "metadata": {},
   "outputs": [
    {
     "name": "stdout",
     "output_type": "stream",
     "text": [
      "Filname:\n",
      "iupui.edu 536\n",
      "umich.edu 491\n",
      "indiana.edu 178\n",
      "caret.cam.ac.uk 157\n",
      "vt.edu 110\n",
      "uct.ac.za 96\n",
      "media.berkeley.edu 56\n",
      "ufp.pt 28\n",
      "gmail.com 25\n",
      "et.gatech.edu 17\n"
     ]
    }
   ],
   "source": [
    "import sqlite3\n",
    "import re\n",
    "\n",
    "connection = sqlite3.connect('countorgsinmails.sqlite')\n",
    "cursor = connection.cursor()\n",
    "\n",
    "cursor.execute('DROP TABLE IF EXISTS Counts')\n",
    "\n",
    "cursor.execute('CREATE TABLE Counts (org TEXT, count INTEGER)')\n",
    "\n",
    "filename = input(\"Filname:\")\n",
    "if (len(filename) < 1): filename = 'mbox.txt'\n",
    "filehandle = open(filename)\n",
    "for line in filehandle:\n",
    "    if not line.startswith(\"From: \"): continue\n",
    "    regex = re.findall('@.*', line)\n",
    "    org = regex[0].replace(\"@\",\"\")\n",
    "    cursor.execute('SELECT count FROM Counts WHERE org = ?', (org,))\n",
    "    row = cursor.fetchone()\n",
    "    if row is None:\n",
    "        cursor.execute('INSERT INTO Counts (org, count) VALUES (?,1)', (org,))\n",
    "    else:\n",
    "        cursor.execute('UPDATE Counts SET count = count + 1 WHERE org = ?', (org,))\n",
    "connection.commit()\n",
    "\n",
    "sqlstr = 'SELECT org, count FROM Counts ORDER BY count DESC LIMIT 10'\n",
    "\n",
    "for row in cursor.execute(sqlstr):\n",
    "    print(row[0], row[1])\n",
    "    \n",
    "cursor.close()"
   ]
  },
  {
   "cell_type": "code",
   "execution_count": null,
   "metadata": {
    "collapsed": true
   },
   "outputs": [],
   "source": []
  }
 ],
 "metadata": {
  "kernelspec": {
   "display_name": "Python 3",
   "language": "python",
   "name": "python3"
  },
  "language_info": {
   "codemirror_mode": {
    "name": "ipython",
    "version": 3
   },
   "file_extension": ".py",
   "mimetype": "text/x-python",
   "name": "python",
   "nbconvert_exporter": "python",
   "pygments_lexer": "ipython3",
   "version": "3.6.3"
  }
 },
 "nbformat": 4,
 "nbformat_minor": 2
}
