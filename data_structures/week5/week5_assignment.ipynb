{
 "cells": [
  {
   "cell_type": "code",
   "execution_count": 1,
   "metadata": {
    "collapsed": true
   },
   "outputs": [],
   "source": [
    "# 9.4 Write a program to read through the mbox-short.txt and figure out \n",
    "# who has the sent the greatest number of mail messages. \n",
    "# The program looks for 'From ' lines and takes the second word of \n",
    "# those lines as the person who sent the mail. The program creates a \n",
    "# Python dictionary that maps the sender's mail address to a count of \n",
    "# the number of times they appear in the file. After the dictionary is \n",
    "# produced, the program reads through the dictionary using a maximum \n",
    "# loop to find the most prolific committer."
   ]
  },
  {
   "cell_type": "code",
   "execution_count": 13,
   "metadata": {},
   "outputs": [
    {
     "name": "stdout",
     "output_type": "stream",
     "text": [
      "cwen@iupui.edu 5\n"
     ]
    }
   ],
   "source": [
    "#get file handle\n",
    "fhandle = open(\"mbox-short.txt\")\n",
    "\n",
    "#initialise a list for mail adresses\n",
    "names = list()\n",
    "\n",
    "#loop through all lines in the file an only split lines that start with \"From \"\n",
    "for line in fhandle:\n",
    "    if line.startswith(\"From \"):\n",
    "        words = line.split()\n",
    "        names.append(words[1])\n",
    "\n",
    "# initialize a dict for counting the mail adresses\n",
    "countnames = dict()\n",
    "for name in names:\n",
    "    countnames[name] = countnames.get(name,0)+1\n",
    "\n",
    "# loop through the dict to get maximum value and corresponding key\n",
    "maxkey = None\n",
    "maxvalue = None\n",
    "\n",
    "for key, value in countnames.items():\n",
    "    if maxvalue == None or maxvalue < value:\n",
    "        maxvalue = value\n",
    "        maxkey = key\n",
    "        \n",
    "print(maxkey, maxvalue)  "
   ]
  },
  {
   "cell_type": "code",
   "execution_count": null,
   "metadata": {
    "collapsed": true
   },
   "outputs": [],
   "source": []
  }
 ],
 "metadata": {
  "kernelspec": {
   "display_name": "Python 3",
   "language": "python",
   "name": "python3"
  },
  "language_info": {
   "codemirror_mode": {
    "name": "ipython",
    "version": 3
   },
   "file_extension": ".py",
   "mimetype": "text/x-python",
   "name": "python",
   "nbconvert_exporter": "python",
   "pygments_lexer": "ipython3",
   "version": "3.6.3"
  }
 },
 "nbformat": 4,
 "nbformat_minor": 2
}
