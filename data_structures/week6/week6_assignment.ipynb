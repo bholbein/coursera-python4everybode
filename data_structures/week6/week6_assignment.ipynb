{
 "cells": [
  {
   "cell_type": "code",
   "execution_count": 10,
   "metadata": {
    "collapsed": true
   },
   "outputs": [],
   "source": [
    "# 10.2 Write a program to read through the mbox-short.txt \n",
    "# and figure out the distribution by hour of the day for \n",
    "# each of the messages. You can pull the hour out from the \n",
    "# 'From ' line by finding the time and then splitting the \n",
    "# string a second time using a colon.\n",
    "# From stephen.marquard@uct.ac.za Sat Jan  5 09:14:16 2008\n",
    "# Once you have accumulated the counts for each hour, \n",
    "# print out the counts, sorted by hour as shown below."
   ]
  },
  {
   "cell_type": "code",
   "execution_count": 2,
   "metadata": {},
   "outputs": [
    {
     "name": "stdout",
     "output_type": "stream",
     "text": [
      "04 3\n",
      "06 1\n",
      "07 1\n",
      "09 2\n",
      "10 3\n",
      "11 6\n",
      "14 1\n",
      "15 2\n",
      "16 4\n",
      "17 2\n",
      "18 1\n",
      "19 1\n"
     ]
    }
   ],
   "source": [
    "# get file handle\n",
    "fhandle = open(\"mbox-short.txt\")\n",
    "\n",
    "hours = list()\n",
    "# loop through the lines in file\n",
    "for line in fhandle:\n",
    "    if line.startswith(\"From \"):\n",
    "        pos = line.find(\":\")\n",
    "        hours.append(line[pos-2:pos])\n",
    "\n",
    "# create a dictionary with a histogramm of hours and count\n",
    "counthours = dict()\n",
    "for hour in hours:\n",
    "    counthours[hour] = counthours.get(hour, 0)+1 \n",
    "\n",
    "#create a ordered tuple list form dictionary\n",
    "for k, v in sorted(counthours.items()):\n",
    "    print(k, v)"
   ]
  },
  {
   "cell_type": "code",
   "execution_count": null,
   "metadata": {
    "collapsed": true
   },
   "outputs": [],
   "source": []
  }
 ],
 "metadata": {
  "kernelspec": {
   "display_name": "Python 3",
   "language": "python",
   "name": "python3"
  },
  "language_info": {
   "codemirror_mode": {
    "name": "ipython",
    "version": 3
   },
   "file_extension": ".py",
   "mimetype": "text/x-python",
   "name": "python",
   "nbconvert_exporter": "python",
   "pygments_lexer": "ipython3",
   "version": "3.6.3"
  }
 },
 "nbformat": 4,
 "nbformat_minor": 2
}
