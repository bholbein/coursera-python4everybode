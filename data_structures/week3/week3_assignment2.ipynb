{
 "cells": [
  {
   "cell_type": "code",
   "execution_count": 1,
   "metadata": {
    "collapsed": true
   },
   "outputs": [],
   "source": [
    "# 7.2 Write a program that prompts for a file name, \n",
    "# then opens that file and reads through the file, \n",
    "# looking for lines of the form: X-DSPAM-Confidence: 0.8475\n",
    "# Count these lines and extract the floating point \n",
    "# values from each of the lines and compute the average \n",
    "# of those values and produce an output as shown below. \n",
    "# Do not use the sum() function or a variable named sum \n",
    "# in your solution.\n",
    "# You can download the sample data at \n",
    "# http://www.py4e.com/code3/mbox-short.txt when you are \n",
    "# testing below enter mbox-short.txt as the file name."
   ]
  },
  {
   "cell_type": "code",
   "execution_count": 9,
   "metadata": {},
   "outputs": [
    {
     "name": "stdout",
     "output_type": "stream",
     "text": [
      "Enter a Filename:mbox-short.txt\n",
      "Average spam confidence:  0.7507185185185187\n"
     ]
    }
   ],
   "source": [
    "fname = input(\"Enter a Filename:\")\n",
    "\n",
    "try:\n",
    "    fhandle = open(fname)\n",
    "except:\n",
    "    print(\"file not found: \", fname)\n",
    "\n",
    "count = 0\n",
    "spamConf = 0\n",
    "for lines in fhandle:\n",
    "    if lines.startswith(\"X-DSPAM-Confidence:\"):\n",
    "        count = count+1\n",
    "        number = lines[20:]\n",
    "        fnumber = float(number)\n",
    "        spamConf = spamConf + fnumber\n",
    "    #lines = lines.rstrip()\n",
    "    #print(lines)\n",
    "\n",
    "average = spamConf / count    \n",
    "print(\"Average spam confidence:\", average)"
   ]
  },
  {
   "cell_type": "code",
   "execution_count": null,
   "metadata": {
    "collapsed": true
   },
   "outputs": [],
   "source": []
  }
 ],
 "metadata": {
  "kernelspec": {
   "display_name": "Python 3",
   "language": "python",
   "name": "python3"
  },
  "language_info": {
   "codemirror_mode": {
    "name": "ipython",
    "version": 3
   },
   "file_extension": ".py",
   "mimetype": "text/x-python",
   "name": "python",
   "nbconvert_exporter": "python",
   "pygments_lexer": "ipython3",
   "version": "3.6.3"
  }
 },
 "nbformat": 4,
 "nbformat_minor": 2
}
