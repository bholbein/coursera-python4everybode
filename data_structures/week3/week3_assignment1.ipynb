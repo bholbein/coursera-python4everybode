{
 "cells": [
  {
   "cell_type": "code",
   "execution_count": 1,
   "metadata": {
    "collapsed": true
   },
   "outputs": [],
   "source": [
    "# 7.1 Write a program that prompts for a file name, \n",
    "# then opens that file and reads through the file, \n",
    "# and print the contents of the file in upper case. \n",
    "# Use the file words.txt to produce the output below.\n",
    "# You can download the sample data at http://www.py4e.com/code3/words.txt"
   ]
  },
  {
   "cell_type": "code",
   "execution_count": 5,
   "metadata": {},
   "outputs": [
    {
     "name": "stdout",
     "output_type": "stream",
     "text": [
      "Filename:test\n",
      "File not found test\n"
     ]
    }
   ],
   "source": [
    "fname = input(\"Filename:\")\n",
    "try:\n",
    "    fhandle = open(fname)\n",
    "except:\n",
    "    print(\"File not found\", fname)\n",
    "    quit()\n",
    "    \n",
    "for lines in fhandle:\n",
    "    lines = lines.rstrip()\n",
    "    print(lines.upper())"
   ]
  },
  {
   "cell_type": "code",
   "execution_count": null,
   "metadata": {
    "collapsed": true
   },
   "outputs": [],
   "source": []
  }
 ],
 "metadata": {
  "kernelspec": {
   "display_name": "Python 3",
   "language": "python",
   "name": "python3"
  },
  "language_info": {
   "codemirror_mode": {
    "name": "ipython",
    "version": 3
   },
   "file_extension": ".py",
   "mimetype": "text/x-python",
   "name": "python",
   "nbconvert_exporter": "python",
   "pygments_lexer": "ipython3",
   "version": "3.6.3"
  }
 },
 "nbformat": 4,
 "nbformat_minor": 2
}
